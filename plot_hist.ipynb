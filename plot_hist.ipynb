{
 "cells": [
  {
   "cell_type": "code",
   "execution_count": 92,
   "source": [
    "import numpy as np\r\n",
    "import pandas as pd\r\n",
    "from matplotlib import pyplot as plt\r\n",
    "import matplotlib.ticker as PercentFormatter"
   ],
   "outputs": [],
   "metadata": {}
  },
  {
   "cell_type": "code",
   "execution_count": 120,
   "source": [
    "binsize = np.arange(0,5100, 200)\r\n",
    "binsize_v = np.arange(0,0.003, 0.00015)\r\n",
    "binsize_v"
   ],
   "outputs": [
    {
     "output_type": "execute_result",
     "data": {
      "text/plain": [
       "array([0.     , 0.00015, 0.0003 , 0.00045, 0.0006 , 0.00075, 0.0009 ,\n",
       "       0.00105, 0.0012 , 0.00135, 0.0015 , 0.00165, 0.0018 , 0.00195,\n",
       "       0.0021 , 0.00225, 0.0024 , 0.00255, 0.0027 , 0.00285, 0.003  ])"
      ]
     },
     "metadata": {},
     "execution_count": 120
    }
   ],
   "metadata": {}
  },
  {
   "cell_type": "code",
   "execution_count": 137,
   "source": [
    "ylim_value = 0.4\r\n",
    "ylim_value_v = 0.7"
   ],
   "outputs": [],
   "metadata": {}
  },
  {
   "cell_type": "markdown",
   "source": [
    "# Unitcell 6mm"
   ],
   "metadata": {}
  },
  {
   "cell_type": "markdown",
   "source": [
    "## Residence Time"
   ],
   "metadata": {}
  },
  {
   "cell_type": "code",
   "execution_count": 88,
   "source": [
    "data_BCC6mm = np.genfromtxt('BCC6.csv', delimiter=',')\r\n",
    "data_BCC6mm.shape"
   ],
   "outputs": [
    {
     "output_type": "execute_result",
     "data": {
      "text/plain": [
       "(1048556, 12)"
      ]
     },
     "metadata": {},
     "execution_count": 88
    }
   ],
   "metadata": {}
  },
  {
   "cell_type": "code",
   "execution_count": 89,
   "source": [
    "BCC6_time = data_BCC6mm[:,0]\r\n",
    "BCC6_time.size"
   ],
   "outputs": [
    {
     "output_type": "execute_result",
     "data": {
      "text/plain": [
       "1048556"
      ]
     },
     "metadata": {},
     "execution_count": 89
    }
   ],
   "metadata": {}
  },
  {
   "cell_type": "code",
   "execution_count": 90,
   "source": [
    "#calcualte the average, maxmin, stadev, % below 5000\r\n",
    "BCC6_avg = np.average(BCC6_time)\r\n",
    "BCC6_std = np.std(BCC6_time)\r\n",
    "BCC6_max = np.max(BCC6_time)\r\n",
    "BCC6_min = np.min(BCC6_time)\r\n",
    "\r\n",
    "#calcualte the number of particle with residence time below 5000\r\n",
    "b5000 = (BCC6_time <5000).sum()\r\n",
    "total = BCC6_time.size\r\n",
    "BCC6_5000 = b5000/total\r\n",
    "print(BCC6_avg)\r\n",
    "print(BCC6_std)\r\n",
    "print(BCC6_max)\r\n",
    "print(BCC6_min)\r\n",
    "print(total)\r\n",
    "print(BCC6_5000 * 100, '%')"
   ],
   "outputs": [
    {
     "output_type": "stream",
     "name": "stdout",
     "text": [
      "2782.3856752401393\n",
      "3605.8154508033726\n",
      "18400.0\n",
      "0.0\n",
      "1048556\n",
      "82.0790687383411 %\n"
     ]
    }
   ],
   "metadata": {}
  },
  {
   "cell_type": "code",
   "execution_count": 133,
   "source": [
    "#plot histogram with all the data\r\n",
    "plt.hist(BCC6_time, bins = binsize, weights = np.ones(len(BCC6_time))/len(BCC6_time))\r\n",
    "plt.ylim(0, ylim_value)\r\n",
    "plt.gca().yaxis.set_major_formatter(PercentFormatter(1))\r\n",
    "plt.title(\"BCC 6mm unit cell, 1.5ml/min flow rate, Residence Time\")\r\n",
    "plt.ylabel('% number of particles')\r\n",
    "plt.xlabel('residence time(s)')\r\n",
    "plt.grid()\r\n",
    "plt.show()"
   ],
   "outputs": [
    {
     "output_type": "display_data",
     "data": {
      "image/png": "[encoded data removed]",
      "text/plain": [
       "<Figure size 432x288 with 1 Axes>"
      ]
     },
     "metadata": {
      "needs_background": "light"
     }
    }
   ],
   "metadata": {}
  },
  {
   "cell_type": "markdown",
   "source": [
    "## Velocity Magnitude BCC6mm"
   ],
   "metadata": {}
  },
  {
   "cell_type": "code",
   "execution_count": 115,
   "source": [
    "BCC6_v = data_BCC6mm[:,11]\r\n",
    "BCC6_v.size"
   ],
   "outputs": [
    {
     "output_type": "execute_result",
     "data": {
      "text/plain": [
       "1048556"
      ]
     },
     "metadata": {},
     "execution_count": 115
    }
   ],
   "metadata": {}
  },
  {
   "cell_type": "code",
   "execution_count": 117,
   "source": [
    "#calcualte the average, maxmin, stadev, % below 5000\r\n",
    "BCC6_v_avg = np.average(BCC6_v)\r\n",
    "BCC6_v_std = np.std(BCC6_v)\r\n",
    "BCC6_v_max = np.max(BCC6_v)\r\n",
    "BCC6_v_min = np.min(BCC6_v)\r\n",
    "\r\n",
    "#calcualte the number of particle with residence time below 5000\r\n",
    "v_b3mms = (BCC6_v <0.003).sum()\r\n",
    "v_total = BCC6_v.size\r\n",
    "BCC6_v_3mms = v_b3mms/v_total\r\n",
    "print(BCC6_v_avg)\r\n",
    "print(BCC6_v_std)\r\n",
    "print(BCC6_v_max)\r\n",
    "print(BCC6_v_min)\r\n",
    "print(v_total)\r\n",
    "print(BCC6_v_3mms * 100, '%')"
   ],
   "outputs": [
    {
     "output_type": "stream",
     "name": "stdout",
     "text": [
      "0.0003123821994342697\n",
      "0.0005165766203685323\n",
      "0.00779\n",
      "0.0\n",
      "1048556\n",
      "99.35377795749584 %\n"
     ]
    }
   ],
   "metadata": {}
  },
  {
   "cell_type": "code",
   "execution_count": 144,
   "source": [
    "#plot histogram with all the data\r\n",
    "plt.hist(BCC6_v, bins = binsize_v, weights = np.ones(len(BCC6_v))/len(BCC6_v),color='g')\r\n",
    "plt.ylim(0, ylim_value_v)\r\n",
    "plt.gca().yaxis.set_major_formatter(PercentFormatter(1))\r\n",
    "plt.title(\"BCC 6mm unit cell, 1.5ml/min flow rate, Velocity Magnitude(m/s)\")\r\n",
    "plt.ylabel('% number of particle')\r\n",
    "plt.xlabel('Velocity magnitude(m/s)')\r\n",
    "plt.grid()\r\n",
    "plt.show()"
   ],
   "outputs": [
    {
     "output_type": "display_data",
     "data": {
      "image/png": "[encoded data removed]",
      "text/plain": [
       "<Figure size 432x288 with 1 Axes>"
      ]
     },
     "metadata": {
      "needs_background": "light"
     }
    }
   ],
   "metadata": {}
  },
  {
   "cell_type": "markdown",
   "source": [
    "# BCC 4mm unit cell"
   ],
   "metadata": {}
  },
  {
   "cell_type": "markdown",
   "source": [
    "## BCC4mm residence time"
   ],
   "metadata": {}
  },
  {
   "cell_type": "code",
   "execution_count": 57,
   "source": [
    "data_BCC4mm = np.genfromtxt('BCC4_stag.csv', delimiter=',')\r\n",
    "data_BCC4mm.shape"
   ],
   "outputs": [
    {
     "output_type": "execute_result",
     "data": {
      "text/plain": [
       "(1048554, 14)"
      ]
     },
     "metadata": {},
     "execution_count": 57
    }
   ],
   "metadata": {}
  },
  {
   "cell_type": "code",
   "execution_count": 58,
   "source": [
    "BCC4_time = data_BCC4mm[:,0]\r\n",
    "BCC4_time.shape"
   ],
   "outputs": [
    {
     "output_type": "execute_result",
     "data": {
      "text/plain": [
       "(1048554,)"
      ]
     },
     "metadata": {},
     "execution_count": 58
    }
   ],
   "metadata": {}
  },
  {
   "cell_type": "code",
   "execution_count": 59,
   "source": [
    "#calcualte the average, maxmin, stadev, % below 5000\r\n",
    "BCC4_avg = np.average(BCC4_time)\r\n",
    "BCC4_std = np.std(BCC4_time)\r\n",
    "BCC4_max = np.max(BCC4_time)\r\n",
    "BCC4_min = np.min(BCC4_time)\r\n",
    "\r\n",
    "#calcualte the number of particle with residence time below 5000\r\n",
    "BCC4_b5000 = (BCC4_time <5000).sum()\r\n",
    "BCC4_total = BCC4_time.size\r\n",
    "BCC4_5000 = BCC4_b5000/BCC4_total\r\n",
    "print(BCC4_avg)\r\n",
    "print(BCC4_std)\r\n",
    "print(BCC4_max)\r\n",
    "print(BCC4_min)\r\n",
    "print(BCC4_total)\r\n",
    "print(BCC4_5000 * 100, '%')"
   ],
   "outputs": [
    {
     "output_type": "stream",
     "name": "stdout",
     "text": [
      "6057.048423585243\n",
      "21856.593693559404\n",
      "178000.0\n",
      "0.0\n",
      "1048554\n",
      "88.35720430230585 %\n"
     ]
    }
   ],
   "metadata": {}
  },
  {
   "cell_type": "code",
   "execution_count": 134,
   "source": [
    "#plot histogram with all the data\r\n",
    "plt.hist(BCC4_time, bins = binsize, weights = np.ones(len(BCC4_time))/len(BCC4_time))\r\n",
    "plt.gca().yaxis.set_major_formatter(PercentFormatter(1))\r\n",
    "plt.ylim(0, ylim_value)\r\n",
    "\r\n",
    "plt.title(\"BCC 4mm unit cell, 1.5ml/min flow rate, Residence Time\")\r\n",
    "plt.ylabel('% number of particles')\r\n",
    "plt.xlabel('residence time(s)')\r\n",
    "plt.grid()\r\n",
    "\r\n",
    "plt.show()"
   ],
   "outputs": [
    {
     "output_type": "display_data",
     "data": {
      "image/png": "[encoded data removed]",
      "text/plain": [
       "<Figure size 432x288 with 1 Axes>"
      ]
     },
     "metadata": {
      "needs_background": "light"
     }
    }
   ],
   "metadata": {}
  },
  {
   "cell_type": "markdown",
   "source": [
    "## velocity magnitude BCC4mm staggered"
   ],
   "metadata": {}
  },
  {
   "cell_type": "code",
   "execution_count": 130,
   "source": [
    "BCC4_v = data_BCC4mm[:,12]\r\n",
    "BCC4_v.size"
   ],
   "outputs": [
    {
     "output_type": "execute_result",
     "data": {
      "text/plain": [
       "1048554"
      ]
     },
     "metadata": {},
     "execution_count": 130
    }
   ],
   "metadata": {}
  },
  {
   "cell_type": "code",
   "execution_count": 131,
   "source": [
    "#calcualte the average, maxmin, stadev, % below 5000\r\n",
    "BCC4_v_avg = np.average(BCC4_v)\r\n",
    "BCC4_v_std = np.std(BCC4_v)\r\n",
    "BCC4_v_max = np.max(BCC4_v)\r\n",
    "BCC4_v_min = np.min(BCC4_v)\r\n",
    "\r\n",
    "#calcualte the number of particle with residence time below 5000\r\n",
    "v_bcc4_b3mms = (BCC4_v <0.003).sum()\r\n",
    "v_bcc4_total = BCC4_v.size\r\n",
    "BCC4_v_3mms = v_bcc4_b3mms/v_bcc4_total\r\n",
    "print(BCC4_v_avg)\r\n",
    "print(BCC4_v_std)\r\n",
    "print(BCC4_v_max)\r\n",
    "print(BCC4_v_min)\r\n",
    "print(v_bcc4_total)\r\n",
    "print(BCC4_v_3mms * 100, '%')"
   ],
   "outputs": [
    {
     "output_type": "stream",
     "name": "stdout",
     "text": [
      "0.0003664583096559642\n",
      "0.0003781812824031083\n",
      "0.00826\n",
      "0.0\n",
      "1048554\n",
      "99.81031019861638 %\n"
     ]
    }
   ],
   "metadata": {}
  },
  {
   "cell_type": "code",
   "execution_count": 145,
   "source": [
    "#plot histogram with all the data\r\n",
    "plt.hist(BCC4_v, bins = binsize_v, weights = np.ones(len(BCC4_v))/len(BCC4_v),color='g')\r\n",
    "plt.ylim(0, ylim_value_v)\r\n",
    "plt.gca().yaxis.set_major_formatter(PercentFormatter(1))\r\n",
    "plt.title(\"BCC 4mm unit cell with lattice distributor, 1.5ml/min flow rate, Velocity Magnitude(m/s)\")\r\n",
    "plt.ylabel('% numbebr of particle')\r\n",
    "plt.xlabel('Velocity magnitude(m/s)')\r\n",
    "plt.grid()\r\n",
    "plt.show()"
   ],
   "outputs": [
    {
     "output_type": "display_data",
     "data": {
      "image/png": "[encoded data removed]",
      "text/plain": [
       "<Figure size 432x288 with 1 Axes>"
      ]
     },
     "metadata": {
      "needs_background": "light"
     }
    }
   ],
   "metadata": {}
  },
  {
   "cell_type": "markdown",
   "source": [
    "# Planar design"
   ],
   "metadata": {}
  },
  {
   "cell_type": "markdown",
   "source": [
    "## planar residence time"
   ],
   "metadata": {}
  },
  {
   "cell_type": "code",
   "execution_count": 104,
   "source": [
    "data_p = np.genfromtxt('planar.csv', delimiter=',')\r\n",
    "data_p.shape"
   ],
   "outputs": [
    {
     "output_type": "execute_result",
     "data": {
      "text/plain": [
       "(696707, 12)"
      ]
     },
     "metadata": {},
     "execution_count": 104
    }
   ],
   "metadata": {}
  },
  {
   "cell_type": "code",
   "execution_count": 105,
   "source": [
    "planar_time = data_p[:,0]\r\n",
    "planar_time.shape"
   ],
   "outputs": [
    {
     "output_type": "execute_result",
     "data": {
      "text/plain": [
       "(696707,)"
      ]
     },
     "metadata": {},
     "execution_count": 105
    }
   ],
   "metadata": {}
  },
  {
   "cell_type": "code",
   "execution_count": 106,
   "source": [
    "#calcualte the average, maxmin, stadev, % below 5000\r\n",
    "planar_avg = np.average(planar_time)\r\n",
    "planar_std = np.std(planar_time)\r\n",
    "planar_max = np.max(planar_time)\r\n",
    "planar_min = np.min(planar_time)\r\n",
    "\r\n",
    "#calcualte the number of particle with residence time below 5000\r\n",
    "planar_b5000 = (planar_time <5000).sum()\r\n",
    "planar_total = planar_time.size\r\n",
    "planar_5000 = planar_b5000/planar_total\r\n",
    "print(planar_avg)\r\n",
    "print(planar_std)\r\n",
    "print(planar_max)\r\n",
    "print(planar_min)\r\n",
    "print(planar_total)\r\n",
    "print(planar_5000 * 100, '%')"
   ],
   "outputs": [
    {
     "output_type": "stream",
     "name": "stdout",
     "text": [
      "1716.0550919953432\n",
      "1908.7520021701864\n",
      "7500.0\n",
      "0.0\n",
      "696707\n",
      "92.41517596349685 %\n"
     ]
    }
   ],
   "metadata": {}
  },
  {
   "cell_type": "code",
   "execution_count": 143,
   "source": [
    "#plot histogram with all the data\r\n",
    "plt.hist(planar_time, bins = binsize, weights = np.ones(len(planar_time))/len(planar_time))\r\n",
    "plt.gca().yaxis.set_major_formatter(PercentFormatter(1))\r\n",
    "plt.ylim(0, 0.4)\r\n",
    "\r\n",
    "plt.title(\"Planar, 1.5ml/min flow rate, Residence Time\")\r\n",
    "plt.ylabel('% number of particles')\r\n",
    "plt.xlabel('residence time(s)')\r\n",
    "plt.grid()\r\n",
    "\r\n",
    "\r\n",
    "\r\n",
    "plt.show()"
   ],
   "outputs": [
    {
     "output_type": "display_data",
     "data": {
      "image/png": "[encoded data removed]",
      "text/plain": [
       "<Figure size 432x288 with 1 Axes>"
      ]
     },
     "metadata": {
      "needs_background": "light"
     }
    }
   ],
   "metadata": {}
  },
  {
   "cell_type": "markdown",
   "source": [
    "## Planar Velocity magnitude"
   ],
   "metadata": {}
  },
  {
   "cell_type": "code",
   "execution_count": 140,
   "source": [
    "planar_v = data_p[:,11]\r\n",
    "planar_v.size"
   ],
   "outputs": [
    {
     "output_type": "execute_result",
     "data": {
      "text/plain": [
       "696707"
      ]
     },
     "metadata": {},
     "execution_count": 140
    }
   ],
   "metadata": {}
  },
  {
   "cell_type": "code",
   "execution_count": 141,
   "source": [
    "#calcualte the average, maxmin, stadev, % below 5000\r\n",
    "planar_v_avg = np.average(planar_v)\r\n",
    "planar_v_std = np.std(planar_v)\r\n",
    "planar_v_max = np.max(planar_v)\r\n",
    "planar_v_min = np.min(planar_v)\r\n",
    "\r\n",
    "#calcualte the number of particle with residence time below 5000\r\n",
    "v_planar_b3mms = (planar_v <0.003).sum()\r\n",
    "v_planar_total = planar_v.size\r\n",
    "planar_v_3mms = v_planar_b3mms/v_planar_total\r\n",
    "print(planar_v_avg)\r\n",
    "print(planar_v_std)\r\n",
    "print(planar_v_max)\r\n",
    "print(planar_v_min)\r\n",
    "print(v_planar_total)\r\n",
    "print(planar_v_3mms * 100, '%')"
   ],
   "outputs": [
    {
     "output_type": "stream",
     "name": "stdout",
     "text": [
      "0.0006647129394752744\n",
      "0.0011089472906583725\n",
      "0.00589\n",
      "0.0\n",
      "696707\n",
      "93.05403849824962 %\n"
     ]
    }
   ],
   "metadata": {}
  },
  {
   "cell_type": "code",
   "execution_count": 146,
   "source": [
    "#plot histogram with all the data\r\n",
    "plt.hist(planar_v, bins = binsize_v, weights = np.ones(len(planar_v))/len(planar_v),color='g')\r\n",
    "plt.ylim(0, ylim_value_v)\r\n",
    "plt.gca().yaxis.set_major_formatter(PercentFormatter(1))\r\n",
    "plt.title(\"Planar design, 1.5ml/min flow rate, Velocity Magnitude(m/s)\")\r\n",
    "plt.ylabel('% numbebr of particle')\r\n",
    "plt.xlabel('Velocity magnitude(m/s)')\r\n",
    "plt.grid()\r\n",
    "plt.show()"
   ],
   "outputs": [
    {
     "output_type": "display_data",
     "data": {
      "image/png": "[encoded data removed]",
      "text/plain": [
       "<Figure size 432x288 with 1 Axes>"
      ]
     },
     "metadata": {
      "needs_background": "light"
     }
    }
   ],
   "metadata": {}
  },
  {
   "cell_type": "markdown",
   "source": [
    "# Plot error bar"
   ],
   "metadata": {}
  },
  {
   "cell_type": "code",
   "execution_count": 151,
   "source": [
    "means = np.array([BCC6_avg, BCC4_avg,planar_avg])\r\n",
    "std = np.array([BCC6_std,BCC4_std,planar_std])\r\n",
    "mins = np.array([BCC6_min,BCC4_min,planar_min])\r\n",
    "maxs = np.array([BCC6_max, BCC4_max, planar_max])"
   ],
   "outputs": [],
   "metadata": {}
  },
  {
   "cell_type": "code",
   "execution_count": 167,
   "source": [
    "plt.errorbar(np.arange(3), means, std, fmt='ok', lw=3)\r\n",
    "plt.errorbar(np.arange(3), means, [means - mins, maxs - means],\r\n",
    "             fmt='.k', ecolor='gray', lw=1)\r\n",
    "plt.xlim(-1,3)\r\n",
    "\r\n",
    "plt.title(\"Residence time (s) with error bar\")\r\n",
    "plt.ylabel('residence time (s)')\r\n",
    "plt.xlabel('BCC6mm    BCC4mm_lattice distributor    Planar')"
   ],
   "outputs": [
    {
     "output_type": "execute_result",
     "data": {
      "text/plain": [
       "Text(0.5, 0, 'BCC6mm    BCC4mm_lattice distributor    Planar')"
      ]
     },
     "metadata": {},
     "execution_count": 167
    },
    {
     "output_type": "display_data",
     "data": {
      "image/png": "[encoded data removed]",
      "text/plain": [
       "<Figure size 432x288 with 1 Axes>"
      ]
     },
     "metadata": {
      "needs_background": "light"
     }
    }
   ],
   "metadata": {}
  },
  {
   "cell_type": "code",
   "execution_count": 162,
   "source": [
    "means_v = np.array([BCC6_v_avg, BCC4_v_avg,planar_v_avg])\r\n",
    "std_v = np.array([BCC6_v_std,BCC4_v_std,planar_v_std])\r\n",
    "mins_v = np.array([BCC6_v_min,BCC4_v_min,planar_v_min])\r\n",
    "maxs_v = np.array([BCC6_v_max, BCC4_v_max, planar_v_max])"
   ],
   "outputs": [],
   "metadata": {}
  },
  {
   "cell_type": "code",
   "execution_count": 169,
   "source": [
    "plt.errorbar(np.arange(3), means_v, std_v, fmt='ok', lw=3)\r\n",
    "plt.errorbar(np.arange(3), means_v, [means_v - mins_v, maxs_v- means_v],\r\n",
    "             fmt='.k', ecolor='gray', lw=1)\r\n",
    "plt.xlim(-1,3)\r\n",
    "\r\n",
    "plt.title(\"Velocity magnitude (m/s) with error bar\")\r\n",
    "plt.ylabel('velocity magnitude (m/s)')\r\n",
    "plt.xlabel('BCC6mm    BCC4mm_lattice distributor    Planar')"
   ],
   "outputs": [
    {
     "output_type": "execute_result",
     "data": {
      "text/plain": [
       "Text(0.5, 0, 'BCC6mm    BCC4mm_lattice distributor    Planar')"
      ]
     },
     "metadata": {},
     "execution_count": 169
    },
    {
     "output_type": "display_data",
     "data": {
      "image/png": "[encoded data removed]",
      "text/plain": [
       "<Figure size 432x288 with 1 Axes>"
      ]
     },
     "metadata": {
      "needs_background": "light"
     }
    }
   ],
   "metadata": {}
  },
  {
   "cell_type": "code",
   "execution_count": null,
   "source": [],
   "outputs": [],
   "metadata": {}
  }
 ],
 "metadata": {
  "orig_nbformat": 4,
  "language_info": {
   "name": "python",
   "version": "3.7.9",
   "mimetype": "text/x-python",
   "codemirror_mode": {
    "name": "ipython",
    "version": 3
   },
   "pygments_lexer": "ipython3",
   "nbconvert_exporter": "python",
   "file_extension": ".py"
  },
  "kernelspec": {
   "name": "python3",
   "display_name": "Python 3.7.9 64-bit ('py37tf2': conda)"
  },
  "interpreter": {
   "hash": "dac8d51b7c38bfbc16fe544e678ff8d8b9efb18f590e14198ca31bafb270898f"
  }
 },
 "nbformat": 4,
 "nbformat_minor": 2
}